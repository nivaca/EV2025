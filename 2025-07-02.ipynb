{
 "cells": [
  {
   "cell_type": "markdown",
   "id": "7610e27d-9b50-4d7c-9280-07a8d20202e1",
   "metadata": {},
   "source": [
    "# Universidad de los Andes\n",
    "## Escuela de Verano 2025\n",
    "### Nicolás Vaughan\n",
    "### n.vaughan@uniandes.edu.co\n"
   ]
  },
  {
   "cell_type": "code",
   "execution_count": null,
   "id": "bfaef3e9-20be-437c-b77a-0e1bd553012b",
   "metadata": {},
   "outputs": [],
   "source": [
    "# 0. Introducción\n",
    "## 0.1 El test de Turing\n",
    "## 0.2 El argumento del cuarto chino\n",
    "### https://www.youtube.com/watch?v=CFKxqrFvYNw"
   ]
  },
  {
   "cell_type": "markdown",
   "id": "57001918-4257-4e10-97c0-e515a030325f",
   "metadata": {},
   "source": [
    "# 1. Voyant Tools\n",
    "## 1.1. Descarguen en su escritorio (click derecho, \"Guardar enlace como...\" / \"Save link as...\") estos dos documentos:\n",
    "- https://archive.org/download/libro-harry-potter-la-coleccion-completa/Libro%3A%20Harry%20Potter%20%E2%80%94%20La%20Coleccion%20Completa_djvu.txt\n",
    "- https://www.gutenberg.org/cache/epub/2000/pg2000.txt\n",
    "\n",
    "(Alternativamente los pueden bajar de esta carpeta: http://bit.ly/4lur9YW)"
   ]
  },
  {
   "cell_type": "markdown",
   "id": "5e4e8368-abf8-4864-b6f5-7ffb0538f23c",
   "metadata": {},
   "source": [
    "## 1.1.1. Limpieza de los textos\n",
    "- Abramos los dos textos en VSCode y eliminemos lo que no pertenece a ellos (la primera y última partes).\n",
    "- No se olviden de guardar."
   ]
  },
  {
   "cell_type": "markdown",
   "id": "57a92ab8-8024-4314-a4f3-720fd3edd2f1",
   "metadata": {},
   "source": [
    "## 1.2. Vayan a https://voyant-tools.org/ en su navegador.\n",
    "### 1.2.1. En \"Añadir textos\" presionen el botón \"Cargar\" y seleccionen el archivo que bajaron `pg2000.txt`."
   ]
  },
  {
   "cell_type": "markdown",
   "id": "3f763e13-d7e3-48e9-bcee-c3cd4cff861c",
   "metadata": {},
   "source": [
    "### 1.2.2. Vamos a explorar las siguientes herramientas:\n",
    "1. Cirrus\n",
    "2. DreamScape\n",
    "3. Árbol de palabras"
   ]
  },
  {
   "cell_type": "markdown",
   "id": "cf515739-dc68-4657-a4de-1e0bc4d65d12",
   "metadata": {},
   "source": [
    "# 2. ChatGPT (u otros Transformadores Generativos Preentrenados)\n",
    "## 2.1. Entren a https://chatgpt.com/ y hagan inicio con su usuario (el que crearon en casa)\n",
    "\n"
   ]
  },
  {
   "cell_type": "markdown",
   "id": "c2f8b094-8758-486c-ab61-9449d169af2b",
   "metadata": {},
   "source": [
    "### 2.2 Ejercicio 1"
   ]
  },
  {
   "cell_type": "markdown",
   "id": "fb207b12-08d8-438a-822c-ae425343d918",
   "metadata": {},
   "source": [
    "### 2.3 Ejercicio 2"
   ]
  },
  {
   "cell_type": "markdown",
   "id": "4ecaec0f-f065-4a94-81f5-271c50b27232",
   "metadata": {},
   "source": [
    "### 2.4 Ejercicio 1"
   ]
  }
 ],
 "metadata": {
  "kernelspec": {
   "display_name": "Python 3 (ipykernel)",
   "language": "python",
   "name": "python3"
  },
  "language_info": {
   "codemirror_mode": {
    "name": "ipython",
    "version": 3
   },
   "file_extension": ".py",
   "mimetype": "text/x-python",
   "name": "python",
   "nbconvert_exporter": "python",
   "pygments_lexer": "ipython3",
   "version": "3.13.5"
  }
 },
 "nbformat": 4,
 "nbformat_minor": 5
}

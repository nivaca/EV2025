{
 "cells": [
  {
   "cell_type": "markdown",
   "id": "7610e27d-9b50-4d7c-9280-07a8d20202e1",
   "metadata": {},
   "source": [
    "# Universidad de los Andes\n",
    "## Escuela de Verano 2025\n",
    "### Nicolás Vaughan\n",
    "### n.vaughan@uniandes.edu.co\n"
   ]
  },
  {
   "cell_type": "markdown",
   "id": "57001918-4257-4e10-97c0-e515a030325f",
   "metadata": {},
   "source": [
    "# 1. Voyant Tools\n",
    "## 1.1. Descarguen en su escritorio (click derecho, \"Guardar enlace como...\" / \"Save link as...\") este documento:\n",
    "- https://www.gutenberg.org/cache/epub/2000/pg2000.txt\n",
    "\n",
    "(Alternativamente lo pueden bajar de esta carpeta: http://bit.ly/4lur9YW)"
   ]
  },
  {
   "cell_type": "markdown",
   "id": "5e4e8368-abf8-4864-b6f5-7ffb0538f23c",
   "metadata": {},
   "source": [
    "## 1.1.1. Limpieza de los textos\n",
    "- Abramos los dos textos en un editor de texto (VSCode o Sublime Text) y eliminemos lo que no pertenece a él (la primera y última partes).\n",
    "- No se olviden de *guardarlo* nuevamente en el escritorio."
   ]
  },
  {
   "cell_type": "markdown",
   "id": "57a92ab8-8024-4314-a4f3-720fd3edd2f1",
   "metadata": {},
   "source": [
    "## 1.2. Vayan a https://voyant-tools.org/ en su navegador.\n",
    "### 1.2.1. En \"Añadir textos\" presionen el botón \"Cargar\" y seleccionen el archivo que bajaron (`pg2000.txt`)."
   ]
  },
  {
   "cell_type": "markdown",
   "id": "3f763e13-d7e3-48e9-bcee-c3cd4cff861c",
   "metadata": {},
   "source": [
    "### 1.2.2. Vamos a explorar las siguientes herramientas:\n",
    "1. Cirrus\n",
    "2. DreamScape\n",
    "3. Árbol de palabras"
   ]
  },
  {
   "cell_type": "markdown",
   "id": "d1a6f369-ec6d-4453-8199-4c0842bd3100",
   "metadata": {},
   "source": [
    "## 1.3. Ejercicio 1\n",
    "### Instrucciones\n",
    "1. Descarguen ahora este otro documento: https://archive.org/download/libro-harry-potter-la-coleccion-completa/Libro%3A%20Harry%20Potter%20%E2%80%94%20La%20Coleccion%20Completa_djvu.txt\n",
    "2. En otra pestaña de su navegador, abran de nuevo la página de Voyant Tools.\n",
    "3. Limpien el documento (quiten lo que pueda sobrar arriba y abajo).\n",
    "4. Carguen en Voyant Tools el documento.\n",
    "5. Recuerden añadir las *stop words* del español.\n",
    "6. Usen las tres herramientas que exploramos arriba.\n",
    "7. En la hoja de cálculo de [este enlace](https://docs.google.com/spreadsheets/d/13flrrQXff6KVRqoy8mX2g_MIVs18R6EcD-KzUxzsoMQ/edit?usp=sharing), cada grupo tendrá una pestaña donde deberá escribir sus respuestas."
   ]
  },
  {
   "cell_type": "markdown",
   "id": "cf515739-dc68-4657-a4de-1e0bc4d65d12",
   "metadata": {},
   "source": [
    "# 2. ChatGPT (u otros Transformadores Generativos Preentrenados)\n",
    "## 2.1. Entren a https://chatgpt.com/ y hagan inicio con su usuario (el que crearon en casa)\n",
    "## 2.2. En Google, busquen la letra de una canción en español que les guste (que no sea muy corta). Yo, por ejemplo, voy a buscar la letra de *No soy de aquí, ni soy de allá*, de Facundo Cabral.\n",
    "## 2.3. En el *prompt* de ChatGPT, escriban lo siguiente: \n",
    "\n",
    "     Por favor, reversiona la letra esta canción, de tal modo que parezca escrita por la civilización egipcia de hace tres milenios:\n",
    "\n",
    "y pegan la letra. (Para hacer salto de línea, pulsen `Cmd + Enter`.)"
   ]
  },
  {
   "cell_type": "markdown",
   "id": "c2f8b094-8758-486c-ab61-9449d169af2b",
   "metadata": {},
   "source": [
    "## 2.4 Ejercicio 2\n",
    "1. Busquen las letras de dos canciones en español, de más o menos la misma extensión.\n",
    "2. Pídanle a ChatGPT que las combine.\n",
    "3. Peguen el resultado en la hoja de cálculo de [este enlace](https://docs.google.com/spreadsheets/d/13flrrQXff6KVRqoy8mX2g_MIVs18R6EcD-KzUxzsoMQ/edit?usp=sharing) y respondan las preguntas de este ejercicio ahí."
   ]
  },
  {
   "cell_type": "markdown",
   "id": "232b97ad-1eef-4df3-b613-290901b41bd6",
   "metadata": {},
   "source": [
    "## 2.5 Ejercicio 3\n",
    "1. En el navegador, vayamos a la siguiente dirección: https://deepai.org/machine-learning-model/text2img\n",
    "2. Pidámosle que diseñe un póster de una película cuyo argumento sea precisamente la letra de la nueva canción.\n",
    "3. Descarguen la imagen e insértenla en el espacio indicado para ello (Insertar > Imagen > Insertar imagen en celda).\n"
   ]
  },
  {
   "cell_type": "code",
   "execution_count": null,
   "id": "15d8d8c6-cc01-4101-995e-629fa8ccdd59",
   "metadata": {},
   "outputs": [],
   "source": []
  }
 ],
 "metadata": {
  "kernelspec": {
   "display_name": "Python 3 (ipykernel)",
   "language": "python",
   "name": "python3"
  },
  "language_info": {
   "codemirror_mode": {
    "name": "ipython",
    "version": 3
   },
   "file_extension": ".py",
   "mimetype": "text/x-python",
   "name": "python",
   "nbconvert_exporter": "python",
   "pygments_lexer": "ipython3",
   "version": "3.13.5"
  }
 },
 "nbformat": 4,
 "nbformat_minor": 5
}
